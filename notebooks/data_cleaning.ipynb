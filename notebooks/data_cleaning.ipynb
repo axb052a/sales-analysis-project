{
 "cells": [
  {
   "cell_type": "code",
   "execution_count": 1,
   "metadata": {},
   "outputs": [
    {
     "name": "stdout",
     "output_type": "stream",
     "text": [
      "Data cleaning complete. Cleaned dataset saved.\n"
     ]
    }
   ],
   "source": [
    "import pandas as pd\n",
    "\n",
    "# Load dataset\n",
    "sales_data = pd.read_csv('../data/sales_data.csv')\n",
    "\n",
    "# Convert 'date' column to datetime\n",
    "sales_data['date'] = pd.to_datetime(sales_data['date'])\n",
    "\n",
    "# Handle missing values (if any)\n",
    "sales_data.dropna(inplace=True)\n",
    "\n",
    "# Check and remove duplicates\n",
    "sales_data.drop_duplicates(inplace=True)\n",
    "\n",
    "# Save cleaned data\n",
    "sales_data.to_csv('../data/cleaned_sales_data.csv', index=False)\n",
    "\n",
    "print(\"Data cleaning complete. Cleaned dataset saved.\")\n"
   ]
  }
 ],
 "metadata": {
  "kernelspec": {
   "display_name": "Python 3",
   "language": "python",
   "name": "python3"
  },
  "language_info": {
   "codemirror_mode": {
    "name": "ipython",
    "version": 3
   },
   "file_extension": ".py",
   "mimetype": "text/x-python",
   "name": "python",
   "nbconvert_exporter": "python",
   "pygments_lexer": "ipython3",
   "version": "3.8.13"
  }
 },
 "nbformat": 4,
 "nbformat_minor": 2
}
